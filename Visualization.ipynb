{
 "cells": [
  {
   "cell_type": "markdown",
   "metadata": {},
   "source": [
    "# Hurricane Season Analysis"
   ]
  },
  {
   "cell_type": "markdown",
   "metadata": {},
   "source": [
    "## Data Gathering"
   ]
  },
  {
   "cell_type": "markdown",
   "metadata": {},
   "source": [
    "### Pseudocode\n",
    "1.  import dependencies\n",
    "2.  get csv file\n",
    "3.  read csv file into pandas\n",
    "4.  display\n",
    "5.  cleanup/delete unnecessary columns"
   ]
  },
  {
   "cell_type": "code",
   "execution_count": 1,
   "metadata": {},
   "outputs": [],
   "source": [
    "import pandas as pd\n",
    "from datetime import datetime, timedelta\n",
    "import csv\n",
    "import matplotlib.pyplot as plt\n",
    "import numpy as np\n",
    "file = \"hurricane_data.csv\""
   ]
  },
  {
   "cell_type": "code",
   "execution_count": 2,
   "metadata": {},
   "outputs": [
    {
     "ename": "FileNotFoundError",
     "evalue": "[Errno 2] No such file or directory: 'hurricane_data.csv'",
     "output_type": "error",
     "traceback": [
      "\u001b[1;31m---------------------------------------------------------------------------\u001b[0m",
      "\u001b[1;31mFileNotFoundError\u001b[0m                         Traceback (most recent call last)",
      "\u001b[1;32m<ipython-input-2-1e26d39705ff>\u001b[0m in \u001b[0;36m<module>\u001b[1;34m()\u001b[0m\n\u001b[0;32m      4\u001b[0m \u001b[0mstorm_id\u001b[0m \u001b[1;33m=\u001b[0m \u001b[1;34m\"0000000\"\u001b[0m\u001b[1;33m\u001b[0m\u001b[0m\n\u001b[0;32m      5\u001b[0m \u001b[0mstorm_name\u001b[0m \u001b[1;33m=\u001b[0m \u001b[1;34m\"UNNAMED\"\u001b[0m\u001b[1;33m\u001b[0m\u001b[0m\n\u001b[1;32m----> 6\u001b[1;33m \u001b[1;32mwith\u001b[0m \u001b[0mopen\u001b[0m\u001b[1;33m(\u001b[0m\u001b[0mfile\u001b[0m\u001b[1;33m)\u001b[0m \u001b[1;32mas\u001b[0m \u001b[0mhurricane_file\u001b[0m\u001b[1;33m:\u001b[0m\u001b[1;33m\u001b[0m\u001b[0m\n\u001b[0m\u001b[0;32m      7\u001b[0m     \u001b[0mhurricane_reader\u001b[0m \u001b[1;33m=\u001b[0m \u001b[0mcsv\u001b[0m\u001b[1;33m.\u001b[0m\u001b[0mreader\u001b[0m\u001b[1;33m(\u001b[0m\u001b[0mhurricane_file\u001b[0m\u001b[1;33m)\u001b[0m\u001b[1;33m\u001b[0m\u001b[0m\n\u001b[0;32m      8\u001b[0m     \u001b[0mnext\u001b[0m\u001b[1;33m(\u001b[0m\u001b[0mhurricane_reader\u001b[0m\u001b[1;33m,\u001b[0m \u001b[1;32mNone\u001b[0m\u001b[1;33m)\u001b[0m\u001b[1;33m\u001b[0m\u001b[0m\n",
      "\u001b[1;31mFileNotFoundError\u001b[0m: [Errno 2] No such file or directory: 'hurricane_data.csv'"
     ]
    }
   ],
   "source": [
    "# Add headerrow containing storm id and storm name to data rows and create list\n",
    "hurricane_data = []\n",
    "\n",
    "storm_id = \"0000000\"\n",
    "storm_name = \"UNNAMED\"\n",
    "with open(file) as hurricane_file:\n",
    "    hurricane_reader = csv.reader(hurricane_file)\n",
    "    next(hurricane_reader, None) \n",
    "    for row in hurricane_reader:\n",
    "                if 'AL' in row[0]: \n",
    "                    storm_id = row[0].strip()\n",
    "                    storm_name = row[1].strip()\n",
    "#                     print(f'{storm_id}: {storm_name}')\n",
    "                else:\n",
    "                    oldformat = row[0]+row[1]\n",
    "                    datetimeobject = datetime.strptime(oldformat,'%Y%m%d %H%M%S')\n",
    "                    date = datetimeobject.strftime('%m-%d-%Y %H%M%S')\n",
    "                    year = row[0][:4]\n",
    "                    landfall = row[2].strip()\n",
    "                    status = row[3].strip()\n",
    "                    latitude = row[4].strip()\n",
    "                    longitude = row[5].strip()\n",
    "                    wind = row[6].strip()\n",
    "                    pressure = row[7].strip()\n",
    "                hurricane_data.append(\n",
    "                    {\n",
    "                        \"Storm_Id\": storm_id, \n",
    "                        \"Name\": storm_name,\n",
    "                        \"Date\": date,\n",
    "                        \"Year\": year,\n",
    "                        \"Landfall\": landfall,\n",
    "                        \"Status\" : status,\n",
    "                        \"Latitude\" : latitude,\n",
    "                        \"Longitude\" : longitude,\n",
    "                        \"Windspeed\" : wind,\n",
    "                        \"Pressure\" : pressure\n",
    "                    }\n",
    "                )    \n",
    "                           \n",
    "    "
   ]
  },
  {
   "cell_type": "code",
   "execution_count": null,
   "metadata": {
    "scrolled": true
   },
   "outputs": [],
   "source": [
    "# Create Dataframe and reorder columns\n",
    "hurricane_pd = pd.DataFrame(hurricane_data)\n",
    "hurricane_pd = hurricane_pd.loc[:, [\"Storm_Id\", \"Name\", \"Date\", \"Year\", \"Status\", \"Latitude\",\n",
    "                                    \"Longitude\", \"Windspeed\", \"Pressure\", \"Landfall\"]]\n",
    "hurricane_pd.head()"
   ]
  },
  {
   "cell_type": "markdown",
   "metadata": {},
   "source": [
    "# Data Cleanup"
   ]
  },
  {
   "cell_type": "markdown",
   "metadata": {},
   "source": [
    "### Pseudocode\n",
    "1. Check column counts for missing data\n",
    "2. Check/Change column types for type conversion\n",
    "3. Limit data to only the past 15 years, only Hurricanes and Tropical Storms, and only named storms\n",
    "4. Get min date (when storm became Tropical Storm) and Max Date (When storm is no longer a tropical storm)\n",
    "5. Calculate the duration of storm\n",
    "6. Find nearest city for storms tha reached landfall\n",
    "7. Get max windspeed row and return all columns\n",
    "8. Categorize storms according to Saffir-Simpson scale https://en.wikipedia.org/wiki/Maximum_sustained_wind "
   ]
  },
  {
   "cell_type": "code",
   "execution_count": null,
   "metadata": {},
   "outputs": [],
   "source": [
    "#Check column counts for missing data\n",
    "hurricane_pd.count()"
   ]
  },
  {
   "cell_type": "code",
   "execution_count": null,
   "metadata": {},
   "outputs": [],
   "source": [
    "#Check column types for needed type conversions\n",
    "hurricane_pd.dtypes"
   ]
  },
  {
   "cell_type": "code",
   "execution_count": null,
   "metadata": {
    "scrolled": true
   },
   "outputs": [],
   "source": [
    "#Change types for Windspeed and Pressure to numerice and Date to Datetime\n",
    "hurricane_pd['Windspeed'] = pd.to_numeric(hurricane_pd['Windspeed'])\n",
    "hurricane_pd['Pressure'] = pd.to_numeric(hurricane_pd['Pressure'])\n",
    "hurricane_pd['Date'] = pd.to_datetime(hurricane_pd['Date'])"
   ]
  },
  {
   "cell_type": "code",
   "execution_count": null,
   "metadata": {
    "scrolled": true
   },
   "outputs": [],
   "source": [
    "# Limit data to only the past 15 years, \n",
    "# Only Hurricanes and Tropical Storms, and \n",
    "# Only named storms\n",
    "\n",
    "hurricane_df_clean = hurricane_pd.loc[hurricane_pd[\"Year\"] >= \"1982\"]\n",
    "hurricane_df_clean = hurricane_df_clean.loc[hurricane_df_clean['Status'].isin(['TS','HU'])]\n",
    "hurricane_df_clean = hurricane_df_clean.loc[hurricane_df_clean['Name'] != \"UNNAMED\"]\n",
    "hurricane_df_clean.head()"
   ]
  },
  {
   "cell_type": "code",
   "execution_count": null,
   "metadata": {},
   "outputs": [],
   "source": [
    "# Get min date (when storm became Tropical Storm) and Max Date (When storm is no longer a tropical storm)\n",
    "# Calculate the duration\n",
    "\n",
    "storm_gb = hurricane_df_clean.groupby('Storm_Id')\n",
    "storm_sgb = storm_gb['Date']\n",
    "start_date = storm_sgb.min()\n",
    "end_date = storm_sgb.max()\n",
    "duration = end_date - start_date"
   ]
  },
  {
   "cell_type": "code",
   "execution_count": null,
   "metadata": {},
   "outputs": [],
   "source": [
    "#Merge Start Date, End Date, and Duration to original dataframe. \n",
    "start_end_df = pd.DataFrame({\"Start Date\": start_date\n",
    "                             ,\"End Date\": end_date\n",
    "                             ,\"Duration\" : duration\n",
    "                            }).reset_index()\n",
    "\n",
    "merge_df = pd.merge(hurricane_df_clean, start_end_df, how=\"outer\", on=\"Storm_Id\")\n",
    "\n",
    "merge_df.head(100)\n"
   ]
  },
  {
   "cell_type": "code",
   "execution_count": null,
   "metadata": {},
   "outputs": [],
   "source": [
    "# Filter only storms that reached Landfall and create dataframe\n",
    "landfall_df = merge_df.loc[merge_df['Landfall'] == \"L\"]"
   ]
  },
  {
   "cell_type": "code",
   "execution_count": null,
   "metadata": {},
   "outputs": [],
   "source": [
    "# Find the nearest city to the Landfall cooridinates using the Citipy\n",
    "from citipy import citipy\n",
    "\n",
    "# Strip the Direction from the Latitude and Longitude\n",
    "lats = landfall_df[\"Latitude\"].str.split(\"([A-Z]+)\", expand=True)\n",
    "lons = landfall_df[\"Longitude\"].str.split(\"([A-Z]+)\", expand=True)\n",
    "\n",
    "# Grab the number from index 0\n",
    "lats = lats[0]\n",
    "lons = lons[0]\n",
    "\n",
    "# Use citipy to find the nearest city\n",
    "landfall_df.loc[:, \"Latitude\"] = lats\n",
    "landfall_df.loc[:, \"Longitude\"] = lons\n",
    "\n",
    "# Change the column to numeric\n",
    "landfall_df[\"Latitude\"] = pd.to_numeric(landfall_df[\"Latitude\"])\n",
    "landfall_df[\"Longitude\"] = pd.to_numeric(landfall_df[\"Longitude\"])\n",
    "\n",
    "# Convert Longitude column to negative\n",
    "landfall_df[\"Longitude\"] *= -1\n",
    "\n",
    "\n",
    "# Use citipy to find the nearest city\n",
    "latitude = landfall_df[\"Latitude\"]\n",
    "longitude = landfall_df[\"Longitude\"]\n",
    "coordinates = zip(latitude, longitude)\n",
    "cities = []\n",
    "for coordinate_pair in coordinates:\n",
    "    lat, lon = coordinate_pair\n",
    "    cities.append(citipy.nearest_city(lat,lon))"
   ]
  },
  {
   "cell_type": "code",
   "execution_count": null,
   "metadata": {},
   "outputs": [],
   "source": [
    "# Add city name column to Landfall dataframe\n",
    "city_name = []\n",
    "for city in cities:\n",
    "    name = city.city_name\n",
    "    city_name.append(name)\n",
    "landfall_df.loc[:, \"Nearest City\"] = city_name\n",
    "landfall_df.head()"
   ]
  },
  {
   "cell_type": "code",
   "execution_count": null,
   "metadata": {},
   "outputs": [],
   "source": [
    "# Merge landfall and original dataframe \n",
    "storm_added_fields = pd.merge(merge_df, landfall_df, how=\"outer\", on=\"Storm_Id\")\n",
    "\n",
    "storm_added_fields = storm_added_fields.loc[:, [\"Storm_Id\", \"Name_x\", \"Date_x\", \"Year_x\", \"Status_x\", \"Latitude_x\", \"Longitude_x\"\n",
    "                                    ,\"Windspeed_x\", \"Pressure_x\", \"Start Date_x\", \"End Date_x\", \"Duration_x\", \"Landfall_y\"\n",
    "                                    ,\"Latitude_y\", \"Longitude_y\", \"Windspeed_y\", \"Nearest City\"]]\n",
    "\n",
    "storm_added_fields_df = storm_added_fields.rename(columns={\"Storm_Id\": \"Storm ID\", \"Name_x\":\"Name\", \"Date_x\":\"Date\", \"Year_x\": \"Year\", \"Status_x\":\"Status\"\n",
    "                                                       ,\"Latitude_x\" : \"Max Latitude\", \"Longitude_x\": \"Max Longitude\"\n",
    "                                                       ,\"Windspeed_x\" : \"Max Windspeed\", \"Pressure_x\" : \"Max Pressure\"\n",
    "                                                       ,\"Start Date_x\" : \"Start Date\", \"End Date_x\" : \"End Date\", \"Duration_x\" : \"Duration\"\n",
    "                                                       ,\"Landfall_y\" : \"Landfall\", \"Latitude_y\" : \"Lf Latitude\", \"Longitude_y\" : \"Lf Longitude\"\n",
    "                                                       ,\"Windspeed_y\" : \"Lf Windspeed\", \"Nearest City\": \"Nearest City\"})\n",
    "\n",
    "\n",
    "storm_added_fields_df.head()"
   ]
  },
  {
   "cell_type": "code",
   "execution_count": null,
   "metadata": {
    "scrolled": false
   },
   "outputs": [],
   "source": [
    "# Find row with max windspeed and return all columns in that row.\n",
    "clean_storm_df = storm_added_fields_df.iloc[storm_added_fields_df.reset_index().groupby(['Storm ID'])[\"Max Windspeed\"].idxmax()]\n",
    "clean_storm_df.head()"
   ]
  },
  {
   "cell_type": "code",
   "execution_count": null,
   "metadata": {},
   "outputs": [],
   "source": [
    "# Create Bins for each storm category according to https://en.wikipedia.org/wiki/Maximum_sustained_wind\n",
    "min_wind = clean_storm_df[\"Max Windspeed\"].min()\n",
    "print(min_wind)\n",
    "bins = [33, 63, 82, 95, 112, 136, 170]\n",
    "\n",
    "# Create the names for the four bins\n",
    "category_names = ['Tropical Storm', 'Category One', 'Category Two', 'Category Three', 'Category Four', 'Category Five']\n",
    "category_values = [0,1, 2, 3, 4, 5]"
   ]
  },
  {
   "cell_type": "code",
   "execution_count": null,
   "metadata": {},
   "outputs": [],
   "source": [
    "# Create new category column\n",
    "storm_category = pd.cut(clean_storm_df[\"Max Windspeed\"], bins, labels=category_names)\n",
    "category_value = pd.cut(clean_storm_df[\"Max Windspeed\"], bins, labels=category_values)"
   ]
  },
  {
   "cell_type": "code",
   "execution_count": null,
   "metadata": {},
   "outputs": [],
   "source": [
    "# Add column to clean storm dataframe\n",
    "clean_storm_df[\"Storm Category\"] = storm_category\n",
    "clean_storm_df[\"Category Value\"] = category_value\n",
    "clean_storm_df['Category Value'] = pd.to_numeric(clean_storm_df['Category Value'])\n",
    "clean_storm_df.head()"
   ]
  },
  {
   "cell_type": "markdown",
   "metadata": {},
   "source": [
    "# Quantity of Storms Over the Years"
   ]
  },
  {
   "cell_type": "code",
   "execution_count": null,
   "metadata": {},
   "outputs": [],
   "source": [
    "# Separate max windspeed, pressure and category data by year and get the average\n",
    "grouped = clean_storm_df.groupby(['Year'])\n",
    "over3 = clean_storm_df.loc[clean_storm_df['Category Value'] >=3,:]\n",
    "over3_grouped = over3.groupby(['Year'])\n",
    "\n",
    "# Set variables\n",
    "quantity = grouped['Duration'].count()\n",
    "quantity_over3 = over3_grouped['Duration'].count()\n",
    "\n",
    "# Plot total quantity\n",
    "x_axis = np.arange(0,len(clean_storm_df['Year'].unique())*2,2)\n",
    "plt.plot(quantity)\n",
    "plt.xlabel('Year')\n",
    "plt.ylabel('Number of Storms')\n",
    "plt.title(\"Total Number of Storms per Year\")\n",
    "plt.ylim(0,30)\n",
    "plt.xlim(-1,36)\n",
    "plt.xticks(rotation='vertical')\n",
    "plt.grid()\n",
    "\n",
    "plt.tight_layout()\n",
    "plt.show()"
   ]
  },
  {
   "cell_type": "code",
   "execution_count": null,
   "metadata": {},
   "outputs": [],
   "source": [
    "# Plot storms category 3 or stronger\n",
    "plt.plot(quantity_over3)\n",
    "plt.xlabel('Year')\n",
    "plt.ylabel('Number of Storms Category 3 or Stronger')\n",
    "plt.title(\"Total Number of Storms Category 3 or Stronger per Year\")\n",
    "plt.ylim(0,8)\n",
    "plt.xticks(rotation='vertical')\n",
    "plt.grid()\n",
    "\n",
    "plt.tight_layout()\n",
    "plt.show()"
   ]
  },
  {
   "cell_type": "markdown",
   "metadata": {},
   "source": [
    "# Strength of Storms Over the Years"
   ]
  },
  {
   "cell_type": "code",
   "execution_count": null,
   "metadata": {
    "scrolled": true
   },
   "outputs": [],
   "source": [
    "# Create a line graph showing quantity of storms over time\n",
    "# Separate max windspeed, pressure and category data by year and get the average\n",
    "strength_df = clean_storm_df[[\"Year\",\"Max Windspeed\",\"Max Pressure\",\"Duration\"]]\n",
    "strength_df['Duration'] = pd.to_numeric(strength_df['Duration'])\n",
    "strength_year = strength_df.groupby(['Year'])\n",
    "\n",
    "# Set variables\n",
    "max_windspeed_avg = strength_year['Max Windspeed'].mean()\n",
    "max_pressure_avg = strength_year['Max Pressure'].mean()\n",
    "duration_avg = strength_year['Duration'].mean()\n",
    "\n",
    "# Create a line graph showing windspeed of storms over time\n",
    "# Plot\n",
    "graph = plt.plot(max_windspeed_avg)\n",
    "plt.xlabel('Year')\n",
    "plt.ylabel('Average Max Windspeed')\n",
    "plt.title(\"Average Max Windspeed Over the Last 15 Years\")\n",
    "plt.xticks(rotation='vertical')\n",
    "plt.grid()\n",
    " \n",
    "plt.tight_layout()\n",
    "plt.show()"
   ]
  },
  {
   "cell_type": "code",
   "execution_count": null,
   "metadata": {
    "scrolled": true
   },
   "outputs": [],
   "source": [
    "# Create a line graph showing pressure of storms over time\n",
    "graph = plt.plot(max_pressure_avg)\n",
    "plt.xlabel('Year')\n",
    "plt.ylabel('Average Max Pressure')\n",
    "plt.title(\"Average Max Pressure Over the Last 15 Years\")\n",
    "plt.xticks(rotation='vertical')\n",
    "plt.grid()\n",
    " \n",
    "plt.tight_layout()\n",
    "plt.show()"
   ]
  },
  {
   "cell_type": "code",
   "execution_count": null,
   "metadata": {},
   "outputs": [],
   "source": [
    "# Create a line graph showing duration of storms over time\n",
    "# Separate max windspeed data by year and get the average\n",
    "graph = plt.plot(duration_avg)\n",
    "plt.xlabel('Year')\n",
    "plt.ylabel('Average Duration')\n",
    "plt.title(\"Average Duration Over the Years\")\n",
    "plt.xticks(rotation='vertical')\n",
    "plt.grid()\n",
    " \n",
    "plt.tight_layout()\n",
    "plt.show()"
   ]
  },
  {
   "cell_type": "markdown",
   "metadata": {},
   "source": [
    "# Most Dangerous City in Relationship to Storms"
   ]
  },
  {
   "cell_type": "code",
   "execution_count": null,
   "metadata": {},
   "outputs": [],
   "source": [
    "# Bar grapth\n",
    "city_count = clean_storm_df[\"Nearest City\"].value_counts()\n",
    "top_cities = city_count.head(20)\n",
    "sorted_cities = top_cities.sort_values(ascending=False)\n",
    "\n",
    "plt.bar(sorted_cities.index,sorted_cities)\n",
    "plt.xticks(rotation='vertical')"
   ]
  },
  {
   "cell_type": "code",
   "execution_count": null,
   "metadata": {},
   "outputs": [],
   "source": [
    "# Bar graph with average strength of storms\n",
    "\n",
    "# Filter for only top 20 cities\n",
    "# Group by cities to get count and avg max winspeed of the storms that hit each city\n",
    "city_count = clean_storm_df.groupby(\"Nearest City\")['Storm ID'].count()\n",
    "city_wind = clean_storm_df.groupby(\"Nearest City\")['Max Windspeed'].mean()\n",
    "\n",
    "# Create data frame\n",
    "cities_df = pd.DataFrame({\"Number of Storms\": city_count,\"Avg Max Windspeed\": city_wind})\n",
    "# Sort to find cities with the most storms\n",
    "cities_df = cities_df.sort_values('Number of Storms', ascending =False)\n",
    "# Keep only cities with 4 storms or more\n",
    "cities_df = cities_df.loc[cities_df['Number of Storms'] >= 4,:]\n",
    "\n",
    "cities_df"
   ]
  },
  {
   "cell_type": "markdown",
   "metadata": {},
   "source": [
    "# Storm Season"
   ]
  },
  {
   "cell_type": "code",
   "execution_count": null,
   "metadata": {},
   "outputs": [],
   "source": [
    "'''windspeed = []\n",
    "strength_list = []\n",
    "\n",
    "for city in sorted_cities.index:\n",
    "    city_df = clean_storm_df.loc[clean_storm_df[\"Nearest City\"] == city,:]\n",
    "    windspeed = city_df[\"Max Windspeed\"].\n",
    "    cities = city\n",
    "    #print(windspeed)\n",
    "    \n",
    "    #Create a dictionaty of results\n",
    "    filtered_dict = {\n",
    "            #\"City\": city,\n",
    "            \"Max Windspeed\": windspeed\n",
    "            }\n",
    "    strength_list.append(filtered_dict)\n",
    "    #print(city)\n",
    "    #print(city)\n",
    "    #print(city_df[\"Max Windspeed\"])'''"
   ]
  },
  {
   "cell_type": "markdown",
   "metadata": {},
   "source": [
    "# Storm Duration"
   ]
  },
  {
   "cell_type": "code",
   "execution_count": null,
   "metadata": {},
   "outputs": [],
   "source": [
    "# Create DataFrame from Results List\n",
    "results_df = pd.DataFrame(strength_list)\n",
    "\n",
    "results_df"
   ]
  },
  {
   "cell_type": "markdown",
   "metadata": {},
   "source": [
    "# Hurricane Season"
   ]
  },
  {
   "cell_type": "code",
   "execution_count": null,
   "metadata": {},
   "outputs": [],
   "source": []
  },
  {
   "cell_type": "markdown",
   "metadata": {},
   "source": [
    "# Storm Duration"
   ]
  },
  {
   "cell_type": "code",
   "execution_count": null,
   "metadata": {},
   "outputs": [],
   "source": []
  },
  {
   "cell_type": "code",
   "execution_count": null,
   "metadata": {},
   "outputs": [],
   "source": [
    "# Save image files\n",
    "# Figure out how to get rid of the red messages"
   ]
  }
 ],
 "metadata": {
  "kernelspec": {
   "display_name": "Python [conda env:PythonData]",
   "language": "python",
   "name": "conda-env-PythonData-py"
  },
  "language_info": {
   "codemirror_mode": {
    "name": "ipython",
    "version": 3
   },
   "file_extension": ".py",
   "mimetype": "text/x-python",
   "name": "python",
   "nbconvert_exporter": "python",
   "pygments_lexer": "ipython3",
   "version": "3.6.4"
  }
 },
 "nbformat": 4,
 "nbformat_minor": 2
}
