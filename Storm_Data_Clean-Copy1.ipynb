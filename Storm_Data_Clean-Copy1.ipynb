{
 "cells": [
  {
   "cell_type": "code",
   "execution_count": 2,
   "metadata": {},
   "outputs": [],
   "source": [
    "import pandas as pd\n",
    "import citipy as cipy\n",
    "from datetime import datetime\n",
    "import numpy as np\n",
    "import csv\n",
    "file = \"hurricane_data.csv\""
   ]
  },
  {
   "cell_type": "code",
   "execution_count": 3,
   "metadata": {},
   "outputs": [],
   "source": [
    "def left(s, amount):\n",
    "    return s[:amount]\n",
    "\n",
    "def right(s, amount):\n",
    "    return s[-amount:]\n",
    "\n",
    "def mid(s, offset, amount):\n",
    "    return s[offset:offset+amount]"
   ]
  },
  {
   "cell_type": "code",
   "execution_count": 4,
   "metadata": {},
   "outputs": [],
   "source": [
    "hurricane_data = []\n",
    "\n",
    "storm_id = \"0000000\"\n",
    "storm_name = \"UNNAMED\"\n",
    "with open(file) as hurricane_file:\n",
    "    hurricane_reader = csv.reader(hurricane_file)\n",
    "    next(hurricane_reader, None) \n",
    "    for row in hurricane_reader:\n",
    "                if 'AL' in row[0]: \n",
    "                    storm_id = row[0].strip()\n",
    "                    storm_name = row[1].strip()\n",
    "#                     print(f'{storm_id}: {storm_name}')\n",
    "                else:\n",
    "                    oldformat = row[0]\n",
    "                    datetimeobject = datetime.strptime(oldformat,'%Y%m%d')\n",
    "                    date = datetimeobject.strftime('%m-%d-%Y')\n",
    "                    year = left(row[0] ,4)\n",
    "                    landfall = row[2].strip()\n",
    "                    status = row[3].strip()\n",
    "                    latitude = row[4].strip()\n",
    "                    longitude = row[5].strip()\n",
    "                    wind = row[6].strip()\n",
    "                    pressure = row[7].strip()\n",
    "                hurricane_data.append(\n",
    "                    {\n",
    "                        \"Storm_Id\": storm_id, \n",
    "                        \"Name\": storm_name,\n",
    "                        \"Date\": date,\n",
    "                        \"Year\": year,\n",
    "                        \"Landfall\": landfall,\n",
    "                        \"Status\" : status,\n",
    "                        \"Latitude\" : latitude,\n",
    "                        \"Longitude\" : longitude,\n",
    "                        \"Windspeed\" : wind,\n",
    "                        \"Pressure\" : pressure\n",
    "                    }\n",
    "                )    \n",
    "                           \n",
    "    "
   ]
  },
  {
   "cell_type": "code",
   "execution_count": 5,
   "metadata": {
    "scrolled": true
   },
   "outputs": [
    {
     "data": {
      "text/html": [
       "<div>\n",
       "<style scoped>\n",
       "    .dataframe tbody tr th:only-of-type {\n",
       "        vertical-align: middle;\n",
       "    }\n",
       "\n",
       "    .dataframe tbody tr th {\n",
       "        vertical-align: top;\n",
       "    }\n",
       "\n",
       "    .dataframe thead th {\n",
       "        text-align: right;\n",
       "    }\n",
       "</style>\n",
       "<table border=\"1\" class=\"dataframe\">\n",
       "  <thead>\n",
       "    <tr style=\"text-align: right;\">\n",
       "      <th></th>\n",
       "      <th>Storm_Id</th>\n",
       "      <th>Name</th>\n",
       "      <th>Date</th>\n",
       "      <th>Year</th>\n",
       "      <th>Status</th>\n",
       "      <th>Latitude</th>\n",
       "      <th>Longitude</th>\n",
       "      <th>Windspeed</th>\n",
       "      <th>Pressure</th>\n",
       "    </tr>\n",
       "  </thead>\n",
       "  <tbody>\n",
       "    <tr>\n",
       "      <th>0</th>\n",
       "      <td>0000000</td>\n",
       "      <td>UNNAMED</td>\n",
       "      <td>06-25-1851</td>\n",
       "      <td>1851</td>\n",
       "      <td>HU</td>\n",
       "      <td>28.0N</td>\n",
       "      <td>94.8W</td>\n",
       "      <td>80</td>\n",
       "      <td>-999</td>\n",
       "    </tr>\n",
       "    <tr>\n",
       "      <th>1</th>\n",
       "      <td>0000000</td>\n",
       "      <td>UNNAMED</td>\n",
       "      <td>06-25-1851</td>\n",
       "      <td>1851</td>\n",
       "      <td>HU</td>\n",
       "      <td>28.0N</td>\n",
       "      <td>95.4W</td>\n",
       "      <td>80</td>\n",
       "      <td>-999</td>\n",
       "    </tr>\n",
       "    <tr>\n",
       "      <th>2</th>\n",
       "      <td>0000000</td>\n",
       "      <td>UNNAMED</td>\n",
       "      <td>06-25-1851</td>\n",
       "      <td>1851</td>\n",
       "      <td>HU</td>\n",
       "      <td>28.0N</td>\n",
       "      <td>96.0W</td>\n",
       "      <td>80</td>\n",
       "      <td>-999</td>\n",
       "    </tr>\n",
       "    <tr>\n",
       "      <th>3</th>\n",
       "      <td>0000000</td>\n",
       "      <td>UNNAMED</td>\n",
       "      <td>06-25-1851</td>\n",
       "      <td>1851</td>\n",
       "      <td>HU</td>\n",
       "      <td>28.1N</td>\n",
       "      <td>96.5W</td>\n",
       "      <td>80</td>\n",
       "      <td>-999</td>\n",
       "    </tr>\n",
       "    <tr>\n",
       "      <th>4</th>\n",
       "      <td>0000000</td>\n",
       "      <td>UNNAMED</td>\n",
       "      <td>06-25-1851</td>\n",
       "      <td>1851</td>\n",
       "      <td>HU</td>\n",
       "      <td>28.2N</td>\n",
       "      <td>96.8W</td>\n",
       "      <td>80</td>\n",
       "      <td>-999</td>\n",
       "    </tr>\n",
       "  </tbody>\n",
       "</table>\n",
       "</div>"
      ],
      "text/plain": [
       "  Storm_Id     Name        Date  Year Status Latitude Longitude Windspeed  \\\n",
       "0  0000000  UNNAMED  06-25-1851  1851     HU    28.0N     94.8W        80   \n",
       "1  0000000  UNNAMED  06-25-1851  1851     HU    28.0N     95.4W        80   \n",
       "2  0000000  UNNAMED  06-25-1851  1851     HU    28.0N     96.0W        80   \n",
       "3  0000000  UNNAMED  06-25-1851  1851     HU    28.1N     96.5W        80   \n",
       "4  0000000  UNNAMED  06-25-1851  1851     HU    28.2N     96.8W        80   \n",
       "\n",
       "  Pressure  \n",
       "0     -999  \n",
       "1     -999  \n",
       "2     -999  \n",
       "3     -999  \n",
       "4     -999  "
      ]
     },
     "execution_count": 5,
     "metadata": {},
     "output_type": "execute_result"
    }
   ],
   "source": [
    "hurricane_pd = pd.DataFrame(hurricane_data)\n",
    "hurricane_pd = hurricane_pd.loc[:, [\"Storm_Id\", \"Name\", \"Date\", \"Year\", \"Status\", \"Latitude\",\n",
    "                                    \"Longitude\", \"Windspeed\", \"Pressure\"]]\n",
    "hurricane_pd.head()"
   ]
  },
  {
   "cell_type": "code",
   "execution_count": 6,
   "metadata": {},
   "outputs": [
    {
     "data": {
      "text/plain": [
       "Storm_Id     52150\n",
       "Name         52150\n",
       "Date         52150\n",
       "Year         52150\n",
       "Status       52150\n",
       "Latitude     52150\n",
       "Longitude    52150\n",
       "Windspeed    52150\n",
       "Pressure     52150\n",
       "dtype: int64"
      ]
     },
     "execution_count": 6,
     "metadata": {},
     "output_type": "execute_result"
    }
   ],
   "source": [
    "hurricane_pd.count()"
   ]
  },
  {
   "cell_type": "code",
   "execution_count": 7,
   "metadata": {},
   "outputs": [
    {
     "data": {
      "text/plain": [
       "Storm_Id     object\n",
       "Name         object\n",
       "Date         object\n",
       "Year         object\n",
       "Status       object\n",
       "Latitude     object\n",
       "Longitude    object\n",
       "Windspeed    object\n",
       "Pressure     object\n",
       "dtype: object"
      ]
     },
     "execution_count": 7,
     "metadata": {},
     "output_type": "execute_result"
    }
   ],
   "source": [
    "hurricane_pd.dtypes"
   ]
  },
  {
   "cell_type": "code",
   "execution_count": 8,
   "metadata": {},
   "outputs": [
    {
     "data": {
      "text/plain": [
       "Storm_Id             object\n",
       "Name                 object\n",
       "Date         datetime64[ns]\n",
       "Year                 object\n",
       "Status               object\n",
       "Latitude             object\n",
       "Longitude            object\n",
       "Windspeed             int64\n",
       "Pressure              int64\n",
       "dtype: object"
      ]
     },
     "execution_count": 8,
     "metadata": {},
     "output_type": "execute_result"
    }
   ],
   "source": [
    "hurricane_pd['Windspeed'] = pd.to_numeric(hurricane_pd['Windspeed'])\n",
    "hurricane_pd['Pressure'] = pd.to_numeric(hurricane_pd['Pressure'])\n",
    "hurricane_pd['Date'] = pd.to_datetime(hurricane_pd['Date'])\n",
    "hurricane_pd.dtypes"
   ]
  },
  {
   "cell_type": "code",
   "execution_count": 30,
   "metadata": {
    "scrolled": true
   },
   "outputs": [
    {
     "data": {
      "text/plain": [
       "Storm_Id             object\n",
       "Name                 object\n",
       "Date         datetime64[ns]\n",
       "Year                 object\n",
       "Status               object\n",
       "Latitude             object\n",
       "Longitude            object\n",
       "Windspeed             int64\n",
       "Pressure              int64\n",
       "dtype: object"
      ]
     },
     "execution_count": 30,
     "metadata": {},
     "output_type": "execute_result"
    }
   ],
   "source": [
    "hurricane_df_clean = hurricane_pd.loc[hurricane_pd[\"Year\"] > \"2002\"]\n",
    "hurricane_df_clean = hurricane_df_clean.loc[hurricane_df_clean['Status'].isin(['TS','HU'])]\n",
    "hurricane_df_clean = hurricane_df_clean.loc[hurricane_df_clean['Name'] != \"UNNAMED\"]\n",
    "hurricane_df_clean.dtypes"
   ]
  },
  {
   "cell_type": "code",
   "execution_count": 34,
   "metadata": {},
   "outputs": [
    {
     "data": {
      "text/plain": [
       "Storm_Id              object\n",
       "Name                  object\n",
       "Date          datetime64[ns]\n",
       "Year                  object\n",
       "Status                object\n",
       "Latitude              object\n",
       "Longitude             object\n",
       "Windspeed              int64\n",
       "Pressure               int64\n",
       "Start Date    datetime64[ns]\n",
       "End Date      datetime64[ns]\n",
       "dtype: object"
      ]
     },
     "execution_count": 34,
     "metadata": {},
     "output_type": "execute_result"
    }
   ],
   "source": [
    "hurricane_df_clean[\"Start Date\"] = hurricane_df_clean.groupby(\"Name\")[\"Date\"].min()\n",
    "hurricane_df_clean[\"End Date\"] = hurricane_df_clean.groupby(\"Name\")[\"Date\"].max()\n",
    "\n",
    "hurricane_df_clean.dtypes"
   ]
  },
  {
   "cell_type": "code",
   "execution_count": 36,
   "metadata": {},
   "outputs": [
    {
     "data": {
      "text/html": [
       "<div>\n",
       "<style scoped>\n",
       "    .dataframe tbody tr th:only-of-type {\n",
       "        vertical-align: middle;\n",
       "    }\n",
       "\n",
       "    .dataframe tbody tr th {\n",
       "        vertical-align: top;\n",
       "    }\n",
       "\n",
       "    .dataframe thead th {\n",
       "        text-align: right;\n",
       "    }\n",
       "</style>\n",
       "<table border=\"1\" class=\"dataframe\">\n",
       "  <thead>\n",
       "    <tr style=\"text-align: right;\">\n",
       "      <th></th>\n",
       "      <th>Storm_Id</th>\n",
       "      <th>Name</th>\n",
       "      <th>Date</th>\n",
       "      <th>Year</th>\n",
       "      <th>Status</th>\n",
       "      <th>Latitude</th>\n",
       "      <th>Longitude</th>\n",
       "      <th>Windspeed</th>\n",
       "      <th>Pressure</th>\n",
       "      <th>Start Date</th>\n",
       "      <th>End Date</th>\n",
       "    </tr>\n",
       "  </thead>\n",
       "  <tbody>\n",
       "    <tr>\n",
       "      <th>46325</th>\n",
       "      <td>AL012006</td>\n",
       "      <td>ALBERTO</td>\n",
       "      <td>2006-06-12</td>\n",
       "      <td>2006</td>\n",
       "      <td>TS</td>\n",
       "      <td>26.8N</td>\n",
       "      <td>86.3W</td>\n",
       "      <td>60</td>\n",
       "      <td>1000</td>\n",
       "      <td>NaT</td>\n",
       "      <td>NaT</td>\n",
       "    </tr>\n",
       "    <tr>\n",
       "      <th>44739</th>\n",
       "      <td>AL012004</td>\n",
       "      <td>ALEX</td>\n",
       "      <td>2004-08-05</td>\n",
       "      <td>2004</td>\n",
       "      <td>HU</td>\n",
       "      <td>38.5N</td>\n",
       "      <td>66.0W</td>\n",
       "      <td>105</td>\n",
       "      <td>957</td>\n",
       "      <td>NaT</td>\n",
       "      <td>NaT</td>\n",
       "    </tr>\n",
       "    <tr>\n",
       "      <th>46129</th>\n",
       "      <td>AL262005</td>\n",
       "      <td>ALPHA</td>\n",
       "      <td>2005-10-23</td>\n",
       "      <td>2005</td>\n",
       "      <td>TS</td>\n",
       "      <td>17.3N</td>\n",
       "      <td>69.6W</td>\n",
       "      <td>45</td>\n",
       "      <td>1000</td>\n",
       "      <td>NaT</td>\n",
       "      <td>NaT</td>\n",
       "    </tr>\n",
       "    <tr>\n",
       "      <th>44120</th>\n",
       "      <td>AL012003</td>\n",
       "      <td>ANA</td>\n",
       "      <td>2003-04-21</td>\n",
       "      <td>2003</td>\n",
       "      <td>TS</td>\n",
       "      <td>31.4N</td>\n",
       "      <td>66.4W</td>\n",
       "      <td>50</td>\n",
       "      <td>995</td>\n",
       "      <td>NaT</td>\n",
       "      <td>NaT</td>\n",
       "    </tr>\n",
       "    <tr>\n",
       "      <th>49903</th>\n",
       "      <td>AL012013</td>\n",
       "      <td>ANDREA</td>\n",
       "      <td>2013-06-06</td>\n",
       "      <td>2013</td>\n",
       "      <td>TS</td>\n",
       "      <td>27.8N</td>\n",
       "      <td>84.9W</td>\n",
       "      <td>55</td>\n",
       "      <td>995</td>\n",
       "      <td>NaT</td>\n",
       "      <td>NaT</td>\n",
       "    </tr>\n",
       "  </tbody>\n",
       "</table>\n",
       "</div>"
      ],
      "text/plain": [
       "       Storm_Id     Name       Date  Year Status Latitude Longitude  \\\n",
       "46325  AL012006  ALBERTO 2006-06-12  2006     TS    26.8N     86.3W   \n",
       "44739  AL012004     ALEX 2004-08-05  2004     HU    38.5N     66.0W   \n",
       "46129  AL262005    ALPHA 2005-10-23  2005     TS    17.3N     69.6W   \n",
       "44120  AL012003      ANA 2003-04-21  2003     TS    31.4N     66.4W   \n",
       "49903  AL012013   ANDREA 2013-06-06  2013     TS    27.8N     84.9W   \n",
       "\n",
       "       Windspeed  Pressure Start Date End Date  \n",
       "46325         60      1000        NaT      NaT  \n",
       "44739        105       957        NaT      NaT  \n",
       "46129         45      1000        NaT      NaT  \n",
       "44120         50       995        NaT      NaT  \n",
       "49903         55       995        NaT      NaT  "
      ]
     },
     "execution_count": 36,
     "metadata": {},
     "output_type": "execute_result"
    }
   ],
   "source": [
    "# hurricane_df_max = hurricane_df_clean.reset_index()\n",
    "hurricane_df_max_grouped = hurricane_df_clean.iloc[hurricane_df_clean.reset_index().groupby(['Name'])[\"Windspeed\"].idxmax()]\n",
    "hurricane_df_max_grouped.head(5)"
   ]
  },
  {
   "cell_type": "code",
   "execution_count": null,
   "metadata": {},
   "outputs": [],
   "source": []
  },
  {
   "cell_type": "code",
   "execution_count": null,
   "metadata": {},
   "outputs": [],
   "source": []
  }
 ],
 "metadata": {
  "kernelspec": {
   "display_name": "Python [conda env:PythonData]",
   "language": "python",
   "name": "conda-env-PythonData-py"
  },
  "language_info": {
   "codemirror_mode": {
    "name": "ipython",
    "version": 3
   },
   "file_extension": ".py",
   "mimetype": "text/x-python",
   "name": "python",
   "nbconvert_exporter": "python",
   "pygments_lexer": "ipython3",
   "version": "3.6.4"
  }
 },
 "nbformat": 4,
 "nbformat_minor": 2
}
